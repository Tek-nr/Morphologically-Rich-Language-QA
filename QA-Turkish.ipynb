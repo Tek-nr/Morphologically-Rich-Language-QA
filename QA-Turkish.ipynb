{
 "cells": [
  {
   "cell_type": "markdown",
   "id": "08b1bb3c",
   "metadata": {},
   "source": [
    "# Importing Related Libraries"
   ]
  },
  {
   "cell_type": "code",
   "execution_count": 7,
   "id": "9e9c522d",
   "metadata": {},
   "outputs": [],
   "source": [
    "import numpy as np\n",
    "import pandas as pd\n",
    "import json\n",
    "import turn_to_df as ttdf\n",
    "import os"
   ]
  },
  {
   "cell_type": "markdown",
   "id": "79024eca",
   "metadata": {},
   "source": [
    "# Getting English Data and Splitting to Translate Turkish"
   ]
  },
  {
   "cell_type": "code",
   "execution_count": 71,
   "id": "452bf20d",
   "metadata": {},
   "outputs": [
    {
     "name": "stdout",
     "output_type": "stream",
     "text": [
      "Reading the json file\n",
      "processing...\n"
     ]
    },
    {
     "name": "stderr",
     "output_type": "stream",
     "text": [
      "C:\\Users\\HILAL-PC\\Desktop\\Perceptron\\turn_to_df.py:19: FutureWarning: pandas.io.json.json_normalize is deprecated, use pandas.json_normalize instead\n",
      "  js = pd.io.json.json_normalize(file , record_path )\n",
      "C:\\Users\\HILAL-PC\\Desktop\\Perceptron\\turn_to_df.py:20: FutureWarning: pandas.io.json.json_normalize is deprecated, use pandas.json_normalize instead\n",
      "  m = pd.io.json.json_normalize(file, record_path[:-1] )\n",
      "C:\\Users\\HILAL-PC\\Desktop\\Perceptron\\turn_to_df.py:21: FutureWarning: pandas.io.json.json_normalize is deprecated, use pandas.json_normalize instead\n",
      "  r = pd.io.json.json_normalize(file,record_path[:-2])\n"
     ]
    },
    {
     "name": "stdout",
     "output_type": "stream",
     "text": [
      "shape of the dataframe is (87599, 6)\n",
      "Done\n"
     ]
    },
    {
     "name": "stderr",
     "output_type": "stream",
     "text": [
      "C:\\Users\\HILAL-PC\\Desktop\\Perceptron\\turn_to_df.py:28: FutureWarning: In a future version of pandas all arguments of concat except for the argument 'objs' will be keyword-only\n",
      "  main = pd.concat([ m[['id','question','context']].set_index('id'),js.set_index('q_idx')],1,sort=False).reset_index()\n"
     ]
    }
   ],
   "source": [
    "# training data\n",
    "input_file_path = r\"C:\\Users\\HILAL-PC\\Desktop\\Perceptron\\input\\train.json\"\n",
    "record_path = ['data','paragraphs','qas','answers']\n",
    "train = ttdf.squad_json_to_dataframe_train(input_file_path=input_file_path,record_path=record_path)"
   ]
  },
  {
   "cell_type": "code",
   "execution_count": 72,
   "id": "6901e14f",
   "metadata": {},
   "outputs": [
    {
     "name": "stdout",
     "output_type": "stream",
     "text": [
      "Reading the json file\n",
      "processing...\n"
     ]
    },
    {
     "name": "stderr",
     "output_type": "stream",
     "text": [
      "C:\\Users\\HILAL-PC\\Desktop\\Perceptron\\turn_to_df.py:50: FutureWarning: pandas.io.json.json_normalize is deprecated, use pandas.json_normalize instead\n",
      "  js = pd.io.json.json_normalize(file , record_path )\n",
      "C:\\Users\\HILAL-PC\\Desktop\\Perceptron\\turn_to_df.py:51: FutureWarning: pandas.io.json.json_normalize is deprecated, use pandas.json_normalize instead\n",
      "  m = pd.io.json.json_normalize(file, record_path[:-1] )\n",
      "C:\\Users\\HILAL-PC\\Desktop\\Perceptron\\turn_to_df.py:52: FutureWarning: pandas.io.json.json_normalize is deprecated, use pandas.json_normalize instead\n",
      "  r = pd.io.json.json_normalize(file,record_path[:-2])\n"
     ]
    },
    {
     "name": "stdout",
     "output_type": "stream",
     "text": [
      "shape of the dataframe is (10570, 5)\n",
      "Done\n"
     ]
    }
   ],
   "source": [
    "# dev data\n",
    "input_file_path = r'C:\\Users\\HILAL-PC\\Desktop\\Perceptron\\input\\dev.json'\n",
    "record_path = ['data','paragraphs','qas','answers']\n",
    "verbose = 0\n",
    "dev = ttdf.squad_json_to_dataframe_dev(input_file_path=input_file_path,record_path=record_path)"
   ]
  },
  {
   "cell_type": "code",
   "execution_count": 73,
   "id": "ad262bd9",
   "metadata": {},
   "outputs": [
    {
     "data": {
      "text/html": [
       "<div>\n",
       "<style scoped>\n",
       "    .dataframe tbody tr th:only-of-type {\n",
       "        vertical-align: middle;\n",
       "    }\n",
       "\n",
       "    .dataframe tbody tr th {\n",
       "        vertical-align: top;\n",
       "    }\n",
       "\n",
       "    .dataframe thead th {\n",
       "        text-align: right;\n",
       "    }\n",
       "</style>\n",
       "<table border=\"1\" class=\"dataframe\">\n",
       "  <thead>\n",
       "    <tr style=\"text-align: right;\">\n",
       "      <th></th>\n",
       "      <th>index</th>\n",
       "      <th>question</th>\n",
       "      <th>context</th>\n",
       "      <th>answer_start</th>\n",
       "      <th>text</th>\n",
       "      <th>c_id</th>\n",
       "    </tr>\n",
       "  </thead>\n",
       "  <tbody>\n",
       "    <tr>\n",
       "      <th>0</th>\n",
       "      <td>5733be284776f41900661182</td>\n",
       "      <td>To whom did the Virgin Mary allegedly appear i...</td>\n",
       "      <td>Architecturally, the school has a Catholic cha...</td>\n",
       "      <td>515</td>\n",
       "      <td>Saint Bernadette Soubirous</td>\n",
       "      <td>0</td>\n",
       "    </tr>\n",
       "    <tr>\n",
       "      <th>1</th>\n",
       "      <td>5733be284776f4190066117f</td>\n",
       "      <td>What is in front of the Notre Dame Main Building?</td>\n",
       "      <td>Architecturally, the school has a Catholic cha...</td>\n",
       "      <td>188</td>\n",
       "      <td>a copper statue of Christ</td>\n",
       "      <td>0</td>\n",
       "    </tr>\n",
       "    <tr>\n",
       "      <th>2</th>\n",
       "      <td>5733be284776f41900661180</td>\n",
       "      <td>The Basilica of the Sacred heart at Notre Dame...</td>\n",
       "      <td>Architecturally, the school has a Catholic cha...</td>\n",
       "      <td>279</td>\n",
       "      <td>the Main Building</td>\n",
       "      <td>0</td>\n",
       "    </tr>\n",
       "    <tr>\n",
       "      <th>3</th>\n",
       "      <td>5733be284776f41900661181</td>\n",
       "      <td>What is the Grotto at Notre Dame?</td>\n",
       "      <td>Architecturally, the school has a Catholic cha...</td>\n",
       "      <td>381</td>\n",
       "      <td>a Marian place of prayer and reflection</td>\n",
       "      <td>0</td>\n",
       "    </tr>\n",
       "    <tr>\n",
       "      <th>4</th>\n",
       "      <td>5733be284776f4190066117e</td>\n",
       "      <td>What sits on top of the Main Building at Notre...</td>\n",
       "      <td>Architecturally, the school has a Catholic cha...</td>\n",
       "      <td>92</td>\n",
       "      <td>a golden statue of the Virgin Mary</td>\n",
       "      <td>0</td>\n",
       "    </tr>\n",
       "  </tbody>\n",
       "</table>\n",
       "</div>"
      ],
      "text/plain": [
       "                      index  \\\n",
       "0  5733be284776f41900661182   \n",
       "1  5733be284776f4190066117f   \n",
       "2  5733be284776f41900661180   \n",
       "3  5733be284776f41900661181   \n",
       "4  5733be284776f4190066117e   \n",
       "\n",
       "                                            question  \\\n",
       "0  To whom did the Virgin Mary allegedly appear i...   \n",
       "1  What is in front of the Notre Dame Main Building?   \n",
       "2  The Basilica of the Sacred heart at Notre Dame...   \n",
       "3                  What is the Grotto at Notre Dame?   \n",
       "4  What sits on top of the Main Building at Notre...   \n",
       "\n",
       "                                             context  answer_start  \\\n",
       "0  Architecturally, the school has a Catholic cha...           515   \n",
       "1  Architecturally, the school has a Catholic cha...           188   \n",
       "2  Architecturally, the school has a Catholic cha...           279   \n",
       "3  Architecturally, the school has a Catholic cha...           381   \n",
       "4  Architecturally, the school has a Catholic cha...            92   \n",
       "\n",
       "                                      text  c_id  \n",
       "0               Saint Bernadette Soubirous     0  \n",
       "1                a copper statue of Christ     0  \n",
       "2                        the Main Building     0  \n",
       "3  a Marian place of prayer and reflection     0  \n",
       "4       a golden statue of the Virgin Mary     0  "
      ]
     },
     "execution_count": 73,
     "metadata": {},
     "output_type": "execute_result"
    }
   ],
   "source": [
    "train.head()"
   ]
  },
  {
   "cell_type": "code",
   "execution_count": 74,
   "id": "d8c73bb8",
   "metadata": {},
   "outputs": [
    {
     "data": {
      "text/html": [
       "<div>\n",
       "<style scoped>\n",
       "    .dataframe tbody tr th:only-of-type {\n",
       "        vertical-align: middle;\n",
       "    }\n",
       "\n",
       "    .dataframe tbody tr th {\n",
       "        vertical-align: top;\n",
       "    }\n",
       "\n",
       "    .dataframe thead th {\n",
       "        text-align: right;\n",
       "    }\n",
       "</style>\n",
       "<table border=\"1\" class=\"dataframe\">\n",
       "  <thead>\n",
       "    <tr style=\"text-align: right;\">\n",
       "      <th></th>\n",
       "      <th>id</th>\n",
       "      <th>question</th>\n",
       "      <th>context</th>\n",
       "      <th>answers</th>\n",
       "      <th>c_id</th>\n",
       "    </tr>\n",
       "  </thead>\n",
       "  <tbody>\n",
       "    <tr>\n",
       "      <th>0</th>\n",
       "      <td>56be4db0acb8001400a502ec</td>\n",
       "      <td>Which NFL team represented the AFC at Super Bo...</td>\n",
       "      <td>Super Bowl 50 was an American football game to...</td>\n",
       "      <td>[{'answer_start': 177, 'text': 'Denver Broncos...</td>\n",
       "      <td>0</td>\n",
       "    </tr>\n",
       "    <tr>\n",
       "      <th>1</th>\n",
       "      <td>56be4db0acb8001400a502ed</td>\n",
       "      <td>Which NFL team represented the NFC at Super Bo...</td>\n",
       "      <td>Super Bowl 50 was an American football game to...</td>\n",
       "      <td>[{'answer_start': 249, 'text': 'Carolina Panth...</td>\n",
       "      <td>0</td>\n",
       "    </tr>\n",
       "    <tr>\n",
       "      <th>2</th>\n",
       "      <td>56be4db0acb8001400a502ee</td>\n",
       "      <td>Where did Super Bowl 50 take place?</td>\n",
       "      <td>Super Bowl 50 was an American football game to...</td>\n",
       "      <td>[{'answer_start': 403, 'text': 'Santa Clara, C...</td>\n",
       "      <td>0</td>\n",
       "    </tr>\n",
       "    <tr>\n",
       "      <th>3</th>\n",
       "      <td>56be4db0acb8001400a502ef</td>\n",
       "      <td>Which NFL team won Super Bowl 50?</td>\n",
       "      <td>Super Bowl 50 was an American football game to...</td>\n",
       "      <td>[{'answer_start': 177, 'text': 'Denver Broncos...</td>\n",
       "      <td>0</td>\n",
       "    </tr>\n",
       "    <tr>\n",
       "      <th>4</th>\n",
       "      <td>56be4db0acb8001400a502f0</td>\n",
       "      <td>What color was used to emphasize the 50th anni...</td>\n",
       "      <td>Super Bowl 50 was an American football game to...</td>\n",
       "      <td>[{'answer_start': 488, 'text': 'gold'}, {'answ...</td>\n",
       "      <td>0</td>\n",
       "    </tr>\n",
       "  </tbody>\n",
       "</table>\n",
       "</div>"
      ],
      "text/plain": [
       "                         id  \\\n",
       "0  56be4db0acb8001400a502ec   \n",
       "1  56be4db0acb8001400a502ed   \n",
       "2  56be4db0acb8001400a502ee   \n",
       "3  56be4db0acb8001400a502ef   \n",
       "4  56be4db0acb8001400a502f0   \n",
       "\n",
       "                                            question  \\\n",
       "0  Which NFL team represented the AFC at Super Bo...   \n",
       "1  Which NFL team represented the NFC at Super Bo...   \n",
       "2                Where did Super Bowl 50 take place?   \n",
       "3                  Which NFL team won Super Bowl 50?   \n",
       "4  What color was used to emphasize the 50th anni...   \n",
       "\n",
       "                                             context  \\\n",
       "0  Super Bowl 50 was an American football game to...   \n",
       "1  Super Bowl 50 was an American football game to...   \n",
       "2  Super Bowl 50 was an American football game to...   \n",
       "3  Super Bowl 50 was an American football game to...   \n",
       "4  Super Bowl 50 was an American football game to...   \n",
       "\n",
       "                                             answers  c_id  \n",
       "0  [{'answer_start': 177, 'text': 'Denver Broncos...     0  \n",
       "1  [{'answer_start': 249, 'text': 'Carolina Panth...     0  \n",
       "2  [{'answer_start': 403, 'text': 'Santa Clara, C...     0  \n",
       "3  [{'answer_start': 177, 'text': 'Denver Broncos...     0  \n",
       "4  [{'answer_start': 488, 'text': 'gold'}, {'answ...     0  "
      ]
     },
     "execution_count": 74,
     "metadata": {},
     "output_type": "execute_result"
    }
   ],
   "source": [
    "dev.head()"
   ]
  },
  {
   "cell_type": "code",
   "execution_count": 93,
   "id": "7d1c11b0",
   "metadata": {},
   "outputs": [],
   "source": [
    "train[80000:].to_excel('train_eng_sum_10.xlsx', index=False)"
   ]
  },
  {
   "cell_type": "code",
   "execution_count": 25,
   "id": "207a7bca",
   "metadata": {},
   "outputs": [],
   "source": [
    "dev.to_csv('dev_eng.csv', index=False)"
   ]
  },
  {
   "cell_type": "markdown",
   "id": "1f529539",
   "metadata": {},
   "source": [
    "# Importing Turkish Dataset"
   ]
  },
  {
   "cell_type": "code",
   "execution_count": 98,
   "id": "2c333779",
   "metadata": {},
   "outputs": [],
   "source": [
    "ds_path = r\"C:\\Users\\HILAL-PC\\Desktop\\Perceptron\\input\\tr\"\n",
    "datasets = [f for f in os.listdir(ds_path) if f.endswith('.xlsx')]"
   ]
  },
  {
   "cell_type": "code",
   "execution_count": 99,
   "id": "ce6e0475",
   "metadata": {},
   "outputs": [],
   "source": [
    "df = pd.concat((pd.read_excel(os.path.join(ds_path, file)) for file in datasets))"
   ]
  },
  {
   "cell_type": "code",
   "execution_count": 100,
   "id": "8d198ab5",
   "metadata": {},
   "outputs": [
    {
     "data": {
      "text/html": [
       "<div>\n",
       "<style scoped>\n",
       "    .dataframe tbody tr th:only-of-type {\n",
       "        vertical-align: middle;\n",
       "    }\n",
       "\n",
       "    .dataframe tbody tr th {\n",
       "        vertical-align: top;\n",
       "    }\n",
       "\n",
       "    .dataframe thead th {\n",
       "        text-align: right;\n",
       "    }\n",
       "</style>\n",
       "<table border=\"1\" class=\"dataframe\">\n",
       "  <thead>\n",
       "    <tr style=\"text-align: right;\">\n",
       "      <th></th>\n",
       "      <th>indeks</th>\n",
       "      <th>soru</th>\n",
       "      <th>bağlam</th>\n",
       "      <th>cevap_başlangıç</th>\n",
       "      <th>metin</th>\n",
       "      <th>c_id</th>\n",
       "    </tr>\n",
       "  </thead>\n",
       "  <tbody>\n",
       "    <tr>\n",
       "      <th>0</th>\n",
       "      <td>57301a88b2c2fd1400568878</td>\n",
       "      <td>Amerikalı-liberyalılar kabileleri neyi dışladı?</td>\n",
       "      <td>Amerikalı-Liberyalı yerleşimciler karşılaştıkl...</td>\n",
       "      <td>638</td>\n",
       "      <td>kendi topraklarında vatandaşlık</td>\n",
       "      <td>17270</td>\n",
       "    </tr>\n",
       "    <tr>\n",
       "      <th>1</th>\n",
       "      <td>57301a88b2c2fd1400568879</td>\n",
       "      <td>Amerikalı-Liberyalılar ne yapmak için misyonl...</td>\n",
       "      <td>Amerikalı-Liberyalı yerleşimciler karşılaştıkl...</td>\n",
       "      <td>1024</td>\n",
       "      <td>yerli halkları eğitmek.</td>\n",
       "      <td>17270</td>\n",
       "    </tr>\n",
       "    <tr>\n",
       "      <th>2</th>\n",
       "      <td>57301c4fb2c2fd140056888f</td>\n",
       "      <td>William R. Tolbert'in ölümünden kim sorumluydu?</td>\n",
       "      <td>12 Nisan 1980'de, Krahn etnik grubundan Başçav...</td>\n",
       "      <td>19</td>\n",
       "      <td>Krahn etnik grubundan Başçavuş Samuel Doe lid...</td>\n",
       "      <td>17271</td>\n",
       "    </tr>\n",
       "    <tr>\n",
       "      <th>3</th>\n",
       "      <td>57301c4fb2c2fd1400568890</td>\n",
       "      <td>William R. Tolbert hangi tarihte öldürüldü?</td>\n",
       "      <td>12 Nisan 1980'de, Krahn etnik grubundan Başçav...</td>\n",
       "      <td>3</td>\n",
       "      <td>12 Nisan 1980</td>\n",
       "      <td>17271</td>\n",
       "    </tr>\n",
       "    <tr>\n",
       "      <th>4</th>\n",
       "      <td>57301c4fb2c2fd1400568891</td>\n",
       "      <td>William R. Tolbert'in öldüğü gün kim idam edi...</td>\n",
       "      <td>12 Nisan 1980'de, Krahn etnik grubundan Başçav...</td>\n",
       "      <td>195</td>\n",
       "      <td>Tolbert'in kabinesinin çoğunluğu ve diğer Amer...</td>\n",
       "      <td>17271</td>\n",
       "    </tr>\n",
       "  </tbody>\n",
       "</table>\n",
       "</div>"
      ],
      "text/plain": [
       "                      indeks  \\\n",
       "0   57301a88b2c2fd1400568878   \n",
       "1   57301a88b2c2fd1400568879   \n",
       "2   57301c4fb2c2fd140056888f   \n",
       "3   57301c4fb2c2fd1400568890   \n",
       "4   57301c4fb2c2fd1400568891   \n",
       "\n",
       "                                                soru  \\\n",
       "0    Amerikalı-liberyalılar kabileleri neyi dışladı?   \n",
       "1   Amerikalı-Liberyalılar ne yapmak için misyonl...   \n",
       "2    William R. Tolbert'in ölümünden kim sorumluydu?   \n",
       "3        William R. Tolbert hangi tarihte öldürüldü?   \n",
       "4   William R. Tolbert'in öldüğü gün kim idam edi...   \n",
       "\n",
       "                                              bağlam   cevap_başlangıç  \\\n",
       "0  Amerikalı-Liberyalı yerleşimciler karşılaştıkl...               638   \n",
       "1  Amerikalı-Liberyalı yerleşimciler karşılaştıkl...              1024   \n",
       "2  12 Nisan 1980'de, Krahn etnik grubundan Başçav...                19   \n",
       "3  12 Nisan 1980'de, Krahn etnik grubundan Başçav...                 3   \n",
       "4  12 Nisan 1980'de, Krahn etnik grubundan Başçav...               195   \n",
       "\n",
       "                                               metin   c_id  \n",
       "0                    kendi topraklarında vatandaşlık  17270  \n",
       "1                            yerli halkları eğitmek.  17270  \n",
       "2   Krahn etnik grubundan Başçavuş Samuel Doe lid...  17271  \n",
       "3                                      12 Nisan 1980  17271  \n",
       "4  Tolbert'in kabinesinin çoğunluğu ve diğer Amer...  17271  "
      ]
     },
     "execution_count": 100,
     "metadata": {},
     "output_type": "execute_result"
    }
   ],
   "source": [
    "df.head()"
   ]
  },
  {
   "cell_type": "markdown",
   "id": "8278c113",
   "metadata": {},
   "source": [
    "# Explatory Data Analysis"
   ]
  },
  {
   "cell_type": "code",
   "execution_count": 101,
   "id": "f2477e6a",
   "metadata": {},
   "outputs": [
    {
     "data": {
      "text/plain": [
       "(87599, 6)"
      ]
     },
     "execution_count": 101,
     "metadata": {},
     "output_type": "execute_result"
    }
   ],
   "source": [
    "df.shape"
   ]
  },
  {
   "cell_type": "code",
   "execution_count": 102,
   "id": "662e4455",
   "metadata": {},
   "outputs": [
    {
     "name": "stdout",
     "output_type": "stream",
     "text": [
      "<class 'pandas.core.frame.DataFrame'>\n",
      "Int64Index: 87599 entries, 0 to 9999\n",
      "Data columns (total 6 columns):\n",
      " #   Column            Non-Null Count  Dtype \n",
      "---  ------            --------------  ----- \n",
      " 0   indeks            87599 non-null  object\n",
      " 1    soru             87599 non-null  object\n",
      " 2    bağlam           87599 non-null  object\n",
      " 3    cevap_başlangıç  87599 non-null  int64 \n",
      " 4    metin            87599 non-null  object\n",
      " 5    c_id             87599 non-null  int64 \n",
      "dtypes: int64(2), object(4)\n",
      "memory usage: 4.7+ MB\n"
     ]
    }
   ],
   "source": [
    "df.info()"
   ]
  },
  {
   "cell_type": "code",
   "execution_count": null,
   "id": "3ce29c45",
   "metadata": {},
   "outputs": [],
   "source": []
  }
 ],
 "metadata": {
  "kernelspec": {
   "display_name": "Python 3 (ipykernel)",
   "language": "python",
   "name": "python3"
  },
  "language_info": {
   "codemirror_mode": {
    "name": "ipython",
    "version": 3
   },
   "file_extension": ".py",
   "mimetype": "text/x-python",
   "name": "python",
   "nbconvert_exporter": "python",
   "pygments_lexer": "ipython3",
   "version": "3.8.5"
  }
 },
 "nbformat": 4,
 "nbformat_minor": 5
}
